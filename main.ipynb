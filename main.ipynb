{
  "cells": [
    {
      "cell_type": "code",
      "execution_count": 1,
      "metadata": {
        "id": "r3_WvMBxyBqw"
      },
      "outputs": [],
      "source": [
        "import requests\n",
        "import json\n",
        "import pandas as pd\n",
        "from pandas import json_normalize\n",
        "import datetime\n",
        "import config"
      ]
    },
    {
      "cell_type": "code",
      "execution_count": 2,
      "metadata": {
        "id": "6AtxHmawyLbT"
      },
      "outputs": [],
      "source": [
        "ciudades =  [\"London\", \"New York\", \"Cordoba\", \"Taipei\", \"Buenos Aires\", \"Mexico City\", \"Dublin\", \"Tbilisi\", \"Bogota\", \"Tokio\"]\n",
        "coorList =   [\"lat=31&lon=64\", \"lat=40&lon=-73\", \"lat=-31&lon=-64\", \"lat=25&lon=64\", \"lat=-34&lon=-58\", \"lat=19&lon=-99\", \"lat=53&lon=6\", \"lat=41&lon=44\", \"lat=4&lon=74\", \"lat=35&lon=139\"]\n",
        "api_key = config.password\n",
        "fecha_actual = datetime.datetime.now().strftime(\"%Y_%m_%d\")"
      ]
    },
    {
      "cell_type": "code",
      "execution_count": 4,
      "metadata": {
        "id": "CHw-aYutyNES"
      },
      "outputs": [],
      "source": [
        "def clima_ciudades(coordenada):\n",
        "    url = f\"https://api.openweathermap.org/data/2.5/weather?{coordenada}&appid={api_key}&units=metric\"\n",
        "    response = requests.get(url)\n",
        "    if response.status_code == 200:\n",
        "        #Guardado en formato json\n",
        "        response_json = response.json()\n",
        "\n",
        "        ciudad = response_json[\"name\"]\n",
        "        ciudad_corregido = ciudad.replace(\" \", \"_\")\n",
        "        \"\"\"with open(f\"{ciudad}_weather.json\", 'w') as output_file:\n",
        "            json.dump(response_json, output_file)\"\"\"\n",
        "\n",
        "        #print(response_json)\n",
        "\n",
        "        # Normalizar el JSON de respuesta utilizando json_normalize, que ya lo pasa a DataFrame\n",
        "        normalized_data = json_normalize(response_json)\n",
        "\n",
        "        #print(normalized_data)\n",
        "\n",
        "        #Pandas para DataFrame\n",
        "        #df = pd.DataFrame(normalized_data)\n",
        "\n",
        "        #Guardado en la carpeta local\n",
        "        with open(f\"data_analytics\\openweather\\{ciudad_corregido}{fecha_actual}.csv\", 'w') as output_file:\n",
        "            normalized_data.to_csv(output_file, index=False)\n",
        "\n",
        "        print(f\"El DataFrame ha sido guardado en {output_file}.\")"
      ]
    },
    {
      "cell_type": "code",
      "execution_count": 5,
      "metadata": {
        "id": "IOVzpIq1yQO0"
      },
      "outputs": [],
      "source": [
        "def clima_por_ciudad(ciudad):\n",
        "    url = f'http://api.openweathermap.org/data/2.5/weather?q={ciudad}&appid={api_key}&units=metric'\n",
        "    response = requests.get(url)\n",
        "    if response.status_code == 200:\n",
        "        #Guardado en formato json\n",
        "        response_json = response.json()\n",
        "        \"\"\"with open(f\"{ciudad}_weather.json\", 'w') as output_file:\n",
        "            json.dump(response_json, output_file)\"\"\"\n",
        "\n",
        "        #print(response_json)\n",
        "\n",
        "        # Normalizar el JSON de respuesta utilizando json_normalize, que ya lo pasa a DataFrame\n",
        "        normalized_data = json_normalize(response_json)\n",
        "\n",
        "        #print(normalized_data)\n",
        "\n",
        "        #Pandas para DataFrame\n",
        "        #df = pd.DataFrame(normalized_data)\n",
        "\n",
        "        #Guardado en la carpeta local\n",
        "        ciudad_corregido = ciudad.replace(\" \", \"_\")\n",
        "        with open(f\"data_analytics\\openweather2\\{ciudad_corregido}{fecha_actual}.csv\", 'w') as output_file:\n",
        "            normalized_data.to_csv(output_file, index=False)\n",
        "\n",
        "        print(f\"El DataFrame ha sido guardado en {output_file}.\")"
      ]
    },
    {
      "cell_type": "code",
      "execution_count": 6,
      "metadata": {
        "id": "_ffWLT5qyTyW"
      },
      "outputs": [],
      "source": [
        "#Ese if indica que correra si ejecuto este script directo desde aca y no si lo corro importado en otro script\n",
        "if __name__ == '__main__':\n",
        "    for coordenada in coorList:\n",
        "        clima_ciudades(coordenada)\n",
        "    for ciudad in ciudades:\n",
        "        clima_por_ciudad(ciudad)"
      ]
    }
  ],
  "metadata": {
    "colab": {
      "provenance": []
    },
    "kernelspec": {
      "display_name": "Python 3",
      "name": "python3"
    },
    "language_info": {
      "codemirror_mode": {
        "name": "ipython",
        "version": 3
      },
      "file_extension": ".py",
      "mimetype": "text/x-python",
      "name": "python",
      "nbconvert_exporter": "python",
      "pygments_lexer": "ipython3",
      "version": "3.11.4"
    }
  },
  "nbformat": 4,
  "nbformat_minor": 0
}
